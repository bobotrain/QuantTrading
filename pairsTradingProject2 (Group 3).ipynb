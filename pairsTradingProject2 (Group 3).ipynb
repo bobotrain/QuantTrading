{
 "cells": [
  {
   "cell_type": "code",
   "execution_count": null,
   "metadata": {
    "collapsed": true
   },
   "outputs": [],
   "source": [
    "import pandas as pd\n",
    "import numpy as np\n",
    "import matplotlib.pyplot as plt\n",
    "import seaborn\n",
    "import yfinance as yf\n",
    "import statistics\n",
    "\n",
    "from datetime import datetime\n",
    "from dateutil.relativedelta import relativedelta\n",
    "\n",
    "from IPython.display import display, HTML\n",
    "from subprocess import getoutput\n",
    "\n",
    "plt.style.use('fivethirtyeight')"
   ]
  },
  {
   "cell_type": "code",
   "execution_count": null,
   "outputs": [],
   "source": [
    "ticker1 = 'HES'\n",
    "ticker2 = 'XOM'\n",
    "myTickerList = [ticker1, ticker2]\n",
    "\n",
    "mDate = '2019-01-01' # Trading Start Date"
   ],
   "metadata": {
    "collapsed": false
   }
  },
  {
   "cell_type": "code",
   "execution_count": null,
   "outputs": [],
   "source": [
    "pairsFormationDuration = 12 # 12 months prior to trading\n",
    "sDate = (datetime.strptime(mDate, '%Y-%m-%d') + relativedelta(months=-pairsFormationDuration)).strftime('%Y-%m-%d')\n",
    "# Pairs Formation Start Date is 'pairsFormationDuration' months prior to the Trading Start Date\n",
    "\n",
    "tradingPeriodDuration = 6 # 6 months after Trading Start Date\n",
    "eDate = (datetime.strptime(mDate, '%Y-%m-%d') + relativedelta(months=tradingPeriodDuration)).strftime('%Y-%m-%d')\n",
    "# Pairs Trading End Date is 'tradingPeriodDuration' months after the Trading Start Date\n",
    "\n",
    "print('{:<26} : {}'.format('Pairs Formation Start Date', sDate))\n",
    "print('{:<26} : {}'.format('Pairs Trading Start Date', sDate))\n",
    "print('{:<26} : {}'.format('Pairs Trading End Date', sDate))"
   ],
   "metadata": {
    "collapsed": false
   }
  },
  {
   "cell_type": "code",
   "execution_count": null,
   "outputs": [],
   "source": [
    "formationPeriodData = yf.download(myTickerList, start=sDate, end=mDate)\n",
    "formationPeriodData = formationPeriodData['Adj Close']\n",
    "formationPeriodData = formationPeriodData.dropna(how='all')\n",
    "formationPeriodData = formationPeriodData.dropna(axis='columns')\n",
    "\n",
    "formationPeriodCumRet = pd.DataFrame()\n",
    "for ticker in formationPeriodData.keys():\n",
    "  dx = formationPeriodData[ticker]/formationPeriodData[ticker].iloc[0]\n",
    "  formationPeriodCumRet = pd.concat([formationPeriodCumRet, dx], axis=1)\n",
    "\n",
    "stDev = statistics.stdev(formationPeriodCumRet[ticker1]-formationPeriodCumRet[ticker2])\n",
    "print('Standard Deviation of spread in the Formation Period', sDate, \"to\", mDate, \"is:\", stDev)"
   ],
   "metadata": {
    "collapsed": false
   }
  },
  {
   "cell_type": "code",
   "execution_count": null,
   "outputs": [],
   "source": [
    "plt.figure(figsize=(12.5, 4.5))\n",
    "plt.plot(formationPeriodCumRet[ticker1], label = ticker1, linewidth = 0.35)\n",
    "plt.plot(formationPeriodCumRet[ticker2], label = ticker2, linewidth = 0.35)\n",
    "plt.title(ticker1 + ' vs ' + ticker2 + ' Formation Period Cum Return')\n",
    "plt.xlabel(sDate + \" - \" + mDate)\n",
    "plt.ylabel('Cum Return')\n",
    "plt.legend(loc='upper left')\n",
    "plt.show()"
   ],
   "metadata": {
    "collapsed": false
   }
  },
  {
   "cell_type": "code",
   "execution_count": null,
   "outputs": [],
   "source": [
    "tradingPeriodData = yf.download(myTickerList, start=mDate, end=eDate)\n",
    "tradingPeriodData = tradingPeriodData['Adj Close']\n",
    "tradingPeriodData = tradingPeriodData.dropna(how='all')\n",
    "tradingPeriodData = tradingPeriodData.dropna(axis='columns')\n",
    "\n",
    "tradingPeriodCumRet = pd.DataFrame()\n",
    "for ticker in tradingPeriodData.keys():\n",
    "  dx = tradingPeriodData[ticker]/tradingPeriodData[ticker].iloc[0]\n",
    "  tradingPeriodCumRet = pd.concat([tradingPeriodCumRet, dx], axis=1)"
   ],
   "metadata": {
    "collapsed": false
   }
  },
  {
   "cell_type": "code",
   "execution_count": null,
   "outputs": [],
   "source": [
    "plt.figure(figsize=(12.5, 4.5))\n",
    "plt.plot(tradingPeriodCumRet[ticker1], label = ticker1, linewidth = 0.35)\n",
    "plt.plot(tradingPeriodCumRet[ticker2], label = ticker2, linewidth = 0.35)\n",
    "plt.title(ticker1+' vs ' + ticker2 + ' Trading Period Cum Return ')\n",
    "plt.xlabel(mDate+\" - \"+eDate)\n",
    "plt.ylabel('Cum Return')\n",
    "plt.legend(loc='upper left')\n",
    "plt.show()"
   ],
   "metadata": {
    "collapsed": false
   }
  },
  {
   "cell_type": "code",
   "execution_count": null,
   "outputs": [],
   "source": [
    "CONST1 = stDev * 1.5\n",
    "CONST2 = 0\n",
    "\n",
    "def buy_sell(data, tick1, tick2):\n",
    "  sigPriceBuy = []\n",
    "  sigPriceSell = []\n",
    "  flag = 0\n",
    "  S1 = data[tick1]\n",
    "  S2 = data[tick2]\n",
    "  for i in range(len(data)):\n",
    "    doNone = False\n",
    "    if i == len(data)-1: #Last day of Trading Period\n",
    "      if flag == 0:\n",
    "        doNone = True\n",
    "      elif flag == 1: # If we had a position open with short on Ticker1 and long on Ticker2 - Thus we must close position by long Ticker1 and short Ticker2\n",
    "        sigPriceBuy.append([tick1, S1[i]])\n",
    "        sigPriceSell.append([tick2, S2[i]])\n",
    "\n",
    "      else: # If we had a position open with long on Ticker1 and short on Ticker2 - Thus we must close position by long Ticker2 and short Ticker1\n",
    "        sigPriceBuy.append([tick2, S2[i]])\n",
    "        sigPriceSell.append([tick1, S1[i]])\n",
    "\n",
    "    else: # Not at the last day of Trading Period\n",
    "      if flag ==0: # We are not in a position\n",
    "        if (S1[i] - S2[i] > CONST1): # Flag1 means ticker1 is much higher than ticker2 - Thus short Ticker1 and long Ticker2\n",
    "          sigPriceBuy.append([tick2, S2[i]])\n",
    "          sigPriceSell.append([tick1, S1[i]])\n",
    "          flag = 1\n",
    "        elif (S2[i] - S1[i]> CONST1): # Flag2 means ticker2 is much higher than ticker1 - Thus short Ticker2 and long Ticker1\n",
    "          sigPriceBuy.append([tick1, S1[i]])\n",
    "          sigPriceSell.append([tick2, S2[i]])\n",
    "          flag = 2\n",
    "        else:\n",
    "          doNone = True\n",
    "\n",
    "      elif flag == 1: # We are in flag1 - we have shorted Ticker1 and longed Ticker2\n",
    "        if (S1[i] - S2[i] < CONST2): # If close position signal is received, must long Ticker1 and short Ticker2\n",
    "          sigPriceBuy.append([tick1, S1[i]])\n",
    "          sigPriceSell.append([tick2, S2[i]])\n",
    "          flag = 0\n",
    "        else:\n",
    "          doNone = True\n",
    "\n",
    "      elif flag == 2:  # We are in flag2 - we have shorted Ticker2 and longed Ticker1\n",
    "        if (S2[i] - S1[i] < CONST2): # If close position signal is received, must long Ticker2 and short Ticker1\n",
    "          sigPriceBuy.append([tick2, S2[i]])\n",
    "          sigPriceSell.append([tick1, S1[i]])\n",
    "          flag = 0\n",
    "        else:\n",
    "          doNone = True\n",
    "\n",
    "    if doNone:\n",
    "      sigPriceBuy.append(['', np.nan])\n",
    "      sigPriceSell.append(['', np.nan])\n",
    "\n",
    "  return (sigPriceBuy, sigPriceSell)"
   ],
   "metadata": {
    "collapsed": false
   }
  },
  {
   "cell_type": "code",
   "execution_count": null,
   "outputs": [],
   "source": [
    "buySellResult = buy_sell(tradingPeriodCumRet, ticker1, ticker2)\n",
    "\n",
    "tradingPeriodCumRet['Buy_Signal_Price'] = [a[1] for a in buySellResult[0]]\n",
    "tradingPeriodCumRet['Sell_Signal_Price'] = [a[1] for a in buySellResult[1]]\n",
    "tradingPeriodCumRet['Buy_Signal_Ticker'] = [a[0] for a in buySellResult[0]]\n",
    "tradingPeriodCumRet['Sell_Signal_Ticker'] = [a[0] for a in buySellResult[1]]\n",
    "\n",
    "tradingPeriodCumRet"
   ],
   "metadata": {
    "collapsed": false
   }
  },
  {
   "cell_type": "code",
   "execution_count": null,
   "outputs": [],
   "source": [
    "totalNumberOfTradingDays = len(tradingPeriodCumRet)\n",
    "totalNumberOfBuys = tradingPeriodCumRet['Buy_Signal_Price'].count()\n",
    "\n",
    "print('{:<28}: {:}'.format('Total Number of Trading Days', totalNumberOfTradingDays))\n",
    "print('{:<28}: {:}'.format('Total Number of Buys', totalNumberOfBuys))"
   ],
   "metadata": {
    "collapsed": false
   }
  },
  {
   "cell_type": "code",
   "execution_count": null,
   "outputs": [],
   "source": [
    "if totalNumberOfBuys != 0:\n",
    "\n",
    "  plt.figure(figsize=(12.5, 4.5))\n",
    "  plt.plot(  tradingPeriodCumRet[ticker1], label = ticker1, linewidth = 0.35)\n",
    "  plt.plot(  tradingPeriodCumRet[ticker2], label = ticker2, linewidth = 0.35)\n",
    "\n",
    "  plt.scatter( tradingPeriodCumRet.index, tradingPeriodCumRet['Buy_Signal_Price'], label = 'Buy', marker = '^', color = 'green')\n",
    "  plt.scatter(tradingPeriodCumRet.index,  tradingPeriodCumRet['Sell_Signal_Price'], label = 'Sell', marker = 'v', color = 'red')\n",
    "\n",
    "  plt.title(ticker1 + ' vs ' +  ticker2+' Cum Return History with Buy & Sell Signals')\n",
    "  plt.xlabel(mDate+\" - \"+eDate)\n",
    "  plt.ylabel('Cum Return')\n",
    "  plt.legend(frameon=False, loc='upper center', ncol=3)\n",
    "  plt.show()\n",
    "else:\n",
    "  print(\"No buys in the trading period! Do not proceed to Step 4!\")"
   ],
   "metadata": {
    "collapsed": false
   }
  },
  {
   "cell_type": "code",
   "execution_count": null,
   "outputs": [],
   "source": [
    "def buy_sell_price(data):\n",
    "\tstrategy = []\n",
    "\tflag = 0\n",
    "\tlongPrice = 0\n",
    "\tshortPrice = 0\n",
    "\tlongTicker = ''\n",
    "\tshortTicker = ''\n",
    "\tasset = 1\n",
    "\tmultiple = 1\n",
    "\n",
    "\tfor i in range(len(data)):\n",
    "\t\t#print(data.index[i], i, asset, multiple)\n",
    "\n",
    "\t\tif data['Buy_Signal_Ticker'][i] !='': #New position\n",
    "\n",
    "\t\t\tif flag == 0: # Open New Pair\n",
    "\t\t\t\tlongPrice = data['Buy_Signal_Price'][i]\n",
    "\t\t\t\tshortPrice = data['Sell_Signal_Price'][i]\n",
    "\t\t\t\tlongTicker = data['Buy_Signal_Ticker'][i]\n",
    "\t\t\t\tshortTicker = data['Sell_Signal_Ticker'][i]\n",
    "\t\t\t\tstrategy.append(asset)\n",
    "\t\t\t\tflag = 1\n",
    "\n",
    "\t\t\telse: # Close Existing Pair\n",
    "\t\t\t\tlongSideRet = data[longTicker][i]-longPrice\n",
    "\t\t\t\tshortSideRet = shortPrice-data[shortTicker][i]\n",
    "\t\t\t\ttotRet = longSideRet + shortSideRet\n",
    "\t\t\t\tmultiple = multiple * (1+totRet)\n",
    "\t\t\t\tasset = multiple\n",
    "\t\t\t\tstrategy.append(asset)\n",
    "\t\t\t\tlongPrice = 0\n",
    "\t\t\t\tshortPrice = 0\n",
    "\t\t\t\tlongTicker = ''\n",
    "\t\t\t\tshortTicker = ''\n",
    "\t\t\t\tflag = 0\n",
    "\n",
    "\t\telse: # No new position\n",
    "\n",
    "\t\t\tif flag == 1: #Update Asset Value\n",
    "\t\t\t\tlongSideRet = data[longTicker][i]-longPrice\n",
    "\t\t\t\tshortSideRet = shortPrice-data[shortTicker][i]\n",
    "\t\t\t\ttotRet = longSideRet + shortSideRet\n",
    "\t\t\t\tasset = (1+totRet)*multiple\n",
    "\t\t\t\tstrategy.append(asset)\n",
    "\n",
    "\t\t\telse: # Nothing Happens\n",
    "\t\t\t\tstrategy.append(asset)\n",
    "\n",
    "\treturn (strategy)"
   ],
   "metadata": {
    "collapsed": false
   }
  },
  {
   "cell_type": "code",
   "execution_count": null,
   "outputs": [],
   "source": [
    "pairs_strategy = buy_sell_price(tradingPeriodCumRet)\n",
    "tradingPeriodCumRet['pairs_strategy'] = pairs_strategy\n",
    "tradingPeriodCumRet"
   ],
   "metadata": {
    "collapsed": false
   }
  },
  {
   "cell_type": "code",
   "execution_count": null,
   "outputs": [],
   "source": [
    "mask = ~np.isnan(tradingPeriodCumRet['pairs_strategy'].values)\n",
    "security_name = ticker1\n",
    "strategy_cret = (tradingPeriodCumRet['pairs_strategy'].values[mask])\n",
    "BH_cret1 = (tradingPeriodCumRet[ticker1].values[mask])/(tradingPeriodCumRet[ticker1].values[mask])[0]\n",
    "BH_cret2 = (tradingPeriodCumRet[ticker2].values[mask])/(tradingPeriodCumRet[ticker2].values[mask])[0]\n",
    "dates = tradingPeriodCumRet.index.values[mask]"
   ],
   "metadata": {
    "collapsed": false
   }
  },
  {
   "cell_type": "code",
   "execution_count": null,
   "outputs": [],
   "source": [
    "plt.figure(figsize=(12.5, 6.5))\n",
    "plt.plot(dates, strategy_cret, label = 'Strategy', linewidth = 0.75)\n",
    "plt.plot(dates, BH_cret1, label = 'Buy and Hold ' + ticker1, linewidth = 0.35)\n",
    "plt.plot(dates, BH_cret2, label = 'Buy and Hold ' + ticker2, linewidth = 0.35)\n",
    "plt.scatter( tradingPeriodCumRet.index, tradingPeriodCumRet['Buy_Signal_Price'], label = 'Buy', marker = '^', color = 'green')\n",
    "plt.scatter(tradingPeriodCumRet.index,  tradingPeriodCumRet['Sell_Signal_Price'], label = 'Sell', marker = 'v', color = 'red')\n",
    "\n",
    "plt.title('Pairs Trading Strategy Long/Short Cummulative return vs Buy&Hold Returns ')\n",
    "plt.xlabel(mDate+\" - \"+eDate)\n",
    "plt.ylabel('Cummulative return')\n",
    "plt.legend(frameon=False, loc='upper left', ncol=3)\n",
    "plt.show()"
   ],
   "metadata": {
    "collapsed": false
   }
  },
  {
   "cell_type": "code",
   "execution_count": null,
   "outputs": [],
   "source": [
    "mask = ~np.isnan(tradingPeriodCumRet['pairs_strategy'].values)\n",
    "pairs_return = (tradingPeriodCumRet['pairs_strategy'].values[mask])[-1]/(tradingPeriodCumRet['pairs_strategy'].values[mask])[0]-1\n",
    "BH_return1 = (tradingPeriodCumRet[ticker1].values[mask])[-1]/(tradingPeriodCumRet[ticker1].values[mask])[0]-1\n",
    "BH_return2 = (tradingPeriodCumRet[ticker2].values[mask])[-1]/(tradingPeriodCumRet[ticker2].values[mask])[0]-1\n",
    "\n",
    "print(\"Pairs Trading strategy return is\",\"{0:.2%}\".format(pairs_return), \"\\nand buy and hold strategy return is\",\"{0:.2%}\".format(BH_return1), \"for\",ticker1,\"\\nand buy and hold strategy return is\",\"{0:.2%}\".format(BH_return2), \"for\",ticker2,\"from\",mDate,\"to\",eDate+\".\")"
   ],
   "metadata": {
    "collapsed": false
   }
  },
  {
   "cell_type": "code",
   "execution_count": null,
   "outputs": [],
   "source": [
    "pairs_ret = strategy_cret[1:]/strategy_cret[:-1]-1\n",
    "BH_ret1 = BH_cret1[1:]/BH_cret1[:-1]-1\n",
    "BH_ret2 = BH_cret2[1:]/BH_cret2[:-1]-1\n",
    "\n",
    "print(\"For\", ticker1, \"and\", ticker2, \"from\", mDate, \"to\", eDate,\\\n",
    "      \"\\nPairs Trading strategy return:\", \"mean is\",\"{0:.2%}\".format(pairs_ret.mean()), \"std. dev. is\",\"{0:.2%}\".format(pairs_ret.std())+\".\",\\\n",
    "      \"\\nBuy and hold strategy return for:\", ticker1, \"mean is\",\"{0:.2%}\".format(BH_ret1.mean()), \"std. dev. is\",\"{0:.2%}\".format(BH_ret1.std())+\".\"      ,\\\n",
    "      \"\\nBuy and hold strategy return2 for:\", ticker2, \"mean is\",\"{0:.2%}\".format(BH_ret2.mean()), \"std. dev. is\",\"{0:.2%}\".format(BH_ret2.std())+\".\")\n"
   ],
   "metadata": {
    "collapsed": false
   }
  },
  {
   "cell_type": "code",
   "execution_count": null,
   "outputs": [],
   "source": [
    "risk_free_rate = yf.download('^IRX', start=mDate, end=eDate)\n",
    "\n",
    "#risk_free_rate = data.get_data_yahoo('^IRX', start, end)\n",
    "risk_free_rate = risk_free_rate.reset_index(drop=False)\n",
    "risk_free_rate = risk_free_rate[['Date','Adj Close']]\n",
    "risk_free_rate['Adj Close'] = risk_free_rate['Adj Close']/(250*100)\n",
    "risk_free_rate.columns = ['Date', 'rf']\n",
    "risk_free_rate.index = risk_free_rate['Date']\n",
    "#print(risk_free_rate)"
   ],
   "metadata": {
    "collapsed": false
   }
  },
  {
   "cell_type": "code",
   "execution_count": null,
   "outputs": [],
   "source": [
    "risk_free_rate['date'] = risk_free_rate.index\n",
    "tradingPeriodCumRet['date'] = tradingPeriodCumRet.index\n",
    "\n",
    "tradingPeriodCumRetMerged = pd.merge(tradingPeriodCumRet, risk_free_rate, how='left',on = 'date',indicator=True)\n",
    "#print(tradingPeriodCumRet)"
   ],
   "metadata": {
    "collapsed": false
   }
  },
  {
   "cell_type": "code",
   "execution_count": null,
   "outputs": [],
   "source": [
    "rf = (tradingPeriodCumRetMerged['rf'].values[mask])[1:]\n",
    "for i in range(len(rf)):\n",
    "  prev_rf = 0\n",
    "  if ~np.isnan(rf[i]):\n",
    "    prev_rf = rf[i]\n",
    "  if np.isnan(rf[i]):\n",
    "    rf[i] = prev_rf\n",
    "\n",
    "BH_excess_ret1 = BH_ret1-rf\n",
    "BH_excess_ret2 = BH_ret2-rf\n",
    "#print(BH_excess_ret)\n",
    "\n",
    "mask2 = (pairs_ret!=0)\n",
    "strategy_excess_ret = pairs_ret\n",
    "strategy_excess_ret[mask2] = (pairs_ret-rf)[mask2]\n",
    "\n",
    "print(\"For\",ticker1, \" vs \", ticker2, \"from\",mDate,\"to\",eDate,\\\n",
    "      \"\\nPairs Trading strategy excess return:\", \"mean is\",\"{0:.2%}\".format(strategy_excess_ret.mean()), \\\n",
    "      \"std. dev. is\",\"{0:.2%}\".format(strategy_excess_ret.std()), \"daily Sharpe ratio is\",\"{0:.2}\".format(strategy_excess_ret.mean()/strategy_excess_ret.std())+\".\",\\\n",
    "      \"\\nBuy and hold strategy excess return:\", ticker1, \"mean is\",\"{0:.2%}\".format(BH_excess_ret1.mean()), \\\n",
    "      \"std. dev. is\",\"{0:.2%}\".format(BH_excess_ret1.std()), \"daily Sharpe ratio is\",\"{0:.2}\".format(BH_excess_ret1.mean()/BH_excess_ret1.std())+\".\", \\\n",
    "\"\\nBuy and hold strategy excess return:\", ticker2, \"mean is\",\"{0:.2%}\".format(BH_excess_ret2.mean()), \\\n",
    "      \"std. dev. is\",\"{0:.2%}\".format(BH_excess_ret2.std()), \"daily Sharpe ratio is\",\"{0:.2}\".format(BH_excess_ret2.mean()/BH_excess_ret2.std())+\".\")"
   ],
   "metadata": {
    "collapsed": false
   }
  },
  {
   "cell_type": "code",
   "execution_count": null,
   "outputs": [],
   "source": [
    "print('{:<20}: {}'.format('firm1', ticker1))\n",
    "print('{:<20}: {}'.format('firm2', ticker2))\n",
    "print('{:<20}: {}'.format('startDate', mDate))\n",
    "print('{:<20}: {}'.format('formationPeriod', pairsFormationDuration))\n",
    "print('{:<20}: {}'.format('transactionPeriod', tradingPeriodDuration))\n",
    "print()\n",
    "print('{:<20}: {:.5%}'.format('strategyMean', strategy_excess_ret.mean()))\n",
    "print('{:<20}: {:.5%}'.format('strategyStdDev', strategy_excess_ret.std()))\n",
    "print('{:<20}: {:.4}'.format('strategySharpeRatio', strategy_excess_ret.mean()/strategy_excess_ret.std()))\n",
    "print()\n",
    "print('{:<20}: {:.5%}'.format('firm1Mean', BH_excess_ret1.mean()))\n",
    "print('{:<20}: {:.5%}'.format('firm1StdDev', BH_excess_ret1.std()))\n",
    "print('{:<20}: {:.4}'.format('firm1SharpeRatio', BH_excess_ret1.mean()/BH_excess_ret1.std()))\n",
    "print()\n",
    "print('{:<20}: {:.5%}'.format('firm2Mean', BH_excess_ret2.mean()))\n",
    "print('{:<20}: {:.5%}'.format('firm2StdDev', BH_excess_ret2.std()))\n",
    "print('{:<20}: {:.4}'.format('firm2SharpeRatio', BH_excess_ret2.mean()/BH_excess_ret2.std()))"
   ],
   "metadata": {
    "collapsed": false
   }
  }
 ],
 "metadata": {
  "kernelspec": {
   "display_name": "Python 3",
   "language": "python",
   "name": "python3"
  },
  "language_info": {
   "codemirror_mode": {
    "name": "ipython",
    "version": 2
   },
   "file_extension": ".py",
   "mimetype": "text/x-python",
   "name": "python",
   "nbconvert_exporter": "python",
   "pygments_lexer": "ipython2",
   "version": "2.7.6"
  }
 },
 "nbformat": 4,
 "nbformat_minor": 0
}
